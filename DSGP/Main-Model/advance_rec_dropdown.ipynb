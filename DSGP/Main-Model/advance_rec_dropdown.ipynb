{
 "cells": [
  {
   "cell_type": "code",
   "execution_count": 1,
   "id": "initial_id",
   "metadata": {
    "collapsed": true,
    "ExecuteTime": {
     "end_time": "2024-03-12T13:17:54.642721Z",
     "start_time": "2024-03-12T13:17:43.757884100Z"
    }
   },
   "outputs": [
    {
     "name": "stdout",
     "output_type": "stream",
     "text": [
      "Requirement already satisfied: Flask in c:\\users\\yeran\\anaconda3\\lib\\site-packages (2.2.2)\n",
      "Requirement already satisfied: Werkzeug>=2.2.2 in c:\\users\\yeran\\anaconda3\\lib\\site-packages (from Flask) (2.2.3)\n",
      "Requirement already satisfied: Jinja2>=3.0 in c:\\users\\yeran\\anaconda3\\lib\\site-packages (from Flask) (3.1.2)\n",
      "Requirement already satisfied: itsdangerous>=2.0 in c:\\users\\yeran\\anaconda3\\lib\\site-packages (from Flask) (2.0.1)\n",
      "Requirement already satisfied: click>=8.0 in c:\\users\\yeran\\anaconda3\\lib\\site-packages (from Flask) (8.0.4)\n",
      "Requirement already satisfied: colorama in c:\\users\\yeran\\anaconda3\\lib\\site-packages (from click>=8.0->Flask) (0.4.6)\n",
      "Requirement already satisfied: MarkupSafe>=2.0 in c:\\users\\yeran\\anaconda3\\lib\\site-packages (from Jinja2>=3.0->Flask) (2.1.1)\n"
     ]
    }
   ],
   "source": [
    "#!pip install Flask"
   ]
  },
  {
   "cell_type": "code",
   "execution_count": 7,
   "outputs": [
    {
     "name": "stdout",
     "output_type": "stream",
     "text": [
      " * Serving Flask app '__main__'\n",
      " * Debug mode: on\n"
     ]
    },
    {
     "name": "stderr",
     "output_type": "stream",
     "text": [
      "WARNING: This is a development server. Do not use it in a production deployment. Use a production WSGI server instead.\n",
      " * Running on http://127.0.0.1:5000\n",
      "Press CTRL+C to quit\n"
     ]
    }
   ],
   "source": [
    "from flask import Flask, request, jsonify\n",
    "\n",
    "app = Flask(__name__)\n",
    "\n",
    "@app.route('/', methods=['POST'])\n",
    "def recommend_laptop():\n",
    "    data = request.json\n",
    "    price = data['price']\n",
    "    ram = data['ram']\n",
    "    gpu = data['gpu']\n",
    "\n",
    "    # Now you have the user inputs, you can process them as needed\n",
    "    print(\"Price:\", price)\n",
    "    print(\"RAM:\", ram)\n",
    "    print(\"GPU:\", gpu)\n",
    "\n",
    "    # Perform laptop recommendation logic here\n",
    "\n",
    "    return jsonify({'success': True})\n",
    "\n",
    "if __name__ == '__main__':\n",
    "    app.run(debug=True, use_reloader=False)\n"
   ],
   "metadata": {
    "collapsed": false,
    "ExecuteTime": {
     "end_time": "2024-03-12T13:52:54.242434500Z",
     "start_time": "2024-03-12T13:47:05.268216600Z"
    }
   },
   "id": "24153e40190ece92"
  },
  {
   "cell_type": "code",
   "execution_count": null,
   "outputs": [],
   "source": [
    "from flask import Flask,render_template,request,jsonify,redirect,url_for\n",
    "import Data.data as mongoData\n",
    "import pandas as pd\n",
    "import pickle\n",
    "\n",
    "app = Flask(_name_)\n",
    "\n",
    "# Starting page of the website\n",
    "@app.route(\"/\")\n",
    "def startup():\n",
    "\n",
    "    return redirect(url_for('start_page'))\n",
    "\n",
    "\n",
    "#Sign Up page\n",
    "@app.route('/signup', methods=['GET','POST'])\n",
    "def signup_process():\n",
    "    if request.method == \"POST\":\n",
    "\n",
    "        #Creating an object\n",
    "        data_object = mongoData.mongo_data()\n",
    "\n",
    "        # Retrieving and Saving Data \n",
    "        data_string = data_object.retrieve_data(request)\n",
    "        data_object.save_data(data_string)\n",
    "\n",
    "    return render_template('signup.html')\n",
    "\n",
    "\n",
    "# Login Page\n",
    "@app.route('/login',methods=['GET','POST'])\n",
    "def login_process():\n",
    "    if request.method == \"POST\":\n",
    "        #Creating an object\n",
    "        data_object = mongoData.mongo_data()\n",
    "\n",
    "        # Retrieving the form data\n",
    "        login_credintals = data_object.retrieve_data(request)\n",
    "        data_object.check_data(login_credintals.get('Email'),login_credintals.get('Password'))\n",
    "        #Checking the hashed data to login\n",
    "\n",
    "    return render_template('login.html')\n",
    "\n",
    "\n",
    "# Weather Page\n",
    "@app.route('/weather-prediction', methods=['GET','POST'])\n",
    "def weather_prediction():\n",
    "    if request.method == 'POST':\n",
    "        print(request.form)\n",
    "    return render_template('weather.html')\n",
    "\n",
    "\n",
    "# Startup Page\n",
    "@app.route('/home')\n",
    "def start_page():\n",
    "    return render_template(\"index.html\")"
   ],
   "metadata": {
    "collapsed": false
   },
   "id": "d2803d605a24f721"
  }
 ],
 "metadata": {
  "kernelspec": {
   "display_name": "Python 3",
   "language": "python",
   "name": "python3"
  },
  "language_info": {
   "codemirror_mode": {
    "name": "ipython",
    "version": 2
   },
   "file_extension": ".py",
   "mimetype": "text/x-python",
   "name": "python",
   "nbconvert_exporter": "python",
   "pygments_lexer": "ipython2",
   "version": "2.7.6"
  }
 },
 "nbformat": 4,
 "nbformat_minor": 5
}
